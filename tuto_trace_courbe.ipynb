{
 "cells": [
  {
   "cell_type": "markdown",
   "metadata": {},
   "source": [
    "<H1 style=\"text-align:center\";>TRACER UNE COURBE AVEC NUMPY ET MATPLOTLIB</H1>"
   ]
  },
  {
   "cell_type": "markdown",
   "metadata": {},
   "source": [
    "Sciences Numériques et Technologie <br>\n",
    "Tutoriel réaliser avec JUPITER NOTEBOOK  <br>\n",
    "Lycée Pierre Lagourgue Le Tampon <br>"
   ]
  },
  {
   "cell_type": "markdown",
   "metadata": {},
   "source": [
    "#### Deux librairies sont nécessaires : numpy et matplotlib\n",
    "La librairie **numpy** permet de réaliser des opérations mathématiques sur de grandes ensemble de nombres\n",
    "[Lien vers la documentation numpy](https://docs.scipy.org/doc/numpy/reference/)\n",
    "La librairie **matplotlib** permet de tracer et visualiser des données sous forme graphique\n",
    "[Lien vers la documentation matplotlib](https://matplotlib.org/contents.html)"
   ]
  },
  {
   "cell_type": "markdown",
   "metadata": {},
   "source": [
    "### COMMENÇONS PAR IMPORTER LES LIBRAIRIES NUMPY ET MATPLOTLIB  <br>"
   ]
  },
  {
   "cell_type": "code",
   "execution_count": 1,
   "metadata": {
    "scrolled": true
   },
   "outputs": [],
   "source": [
    "import matplotlib.pyplot as plt #on utilisera ici le module pyplot de matplotlib\n",
    "import numpy as np"
   ]
  },
  {
   "cell_type": "markdown",
   "metadata": {},
   "source": [
    "La ligne de code suivante précise les valeurs minimum et maximum des abscisses X, ainsi que le nombre de points calculés entre ces 2 valeurs. <br>\n",
    "On utilise pour cela la fonction **_linspace_** de numpy <br>\n",
    "\n",
    "Ici :\n",
    "- Xmini = -5\n",
    "- Xmaxi = 5\n",
    "- nombre de points = 100"
   ]
  },
  {
   "cell_type": "code",
   "execution_count": 2,
   "metadata": {},
   "outputs": [],
   "source": [
    "x = np.linspace(-5, 5, 100)"
   ]
  },
  {
   "cell_type": "markdown",
   "metadata": {},
   "source": [
    "La fonction **_plot_** de la librairie matplotlib permet ensuite de tracer la courbe y = f(x) <br>\n",
    "Pour cet exemple on utilise la fonction f(x) = sin(x) de numpy"
   ]
  },
  {
   "cell_type": "code",
   "execution_count": 3,
   "metadata": {
    "scrolled": false
   },
   "outputs": [
    {
     "data": {
      "image/png": "[encoded data removed]",
      "text/plain": [
       "<Figure size 432x288 with 1 Axes>"
      ]
     },
     "metadata": {
      "needs_background": "light"
     },
     "output_type": "display_data"
    }
   ],
   "source": [
    "plt.plot(x, np.sin(x))   #fonction sinus de numpy\n",
    "plt.ylabel('fonction sinus')\n",
    "plt.xlabel('axe x')\n",
    "plt.show()"
   ]
  },
  {
   "cell_type": "markdown",
   "metadata": {},
   "source": [
    "Le code à déterminé la position sur le graphe de 100 couples de points (x, sin(x)) pour x compris entre -5 et 5 <br>\n",
    "Ces points sont ensuite reliés par la courbe ci-dessus.  <br>\n",
    "Les lignes plt.ylabel et plt.xlabel permettent de repérer les abscisses et les ordonnées <br>"
   ]
  },
  {
   "cell_type": "markdown",
   "metadata": {},
   "source": [
    "<H2 style=\"text-align:center\";>À VOUS DE JOUER</H2>"
   ]
  },
  {
   "cell_type": "markdown",
   "metadata": {},
   "source": [
    "Pour chaque exercice proposé, une fois que le code fonctionne correctement, faire un copier/coller dans SPYDER et sauvegarder votre fichier sous le nom suivant : **trace_courbe_ex_1.py**"
   ]
  },
  {
   "cell_type": "markdown",
   "metadata": {},
   "source": [
    "### EXERCICE N°1 : <br>\n",
    "**Compléter** le code de cellule ci-dessous pour tracer de la fonction v(t) = 4*t pour t compris entre 0 et 2 secondes <br>\n",
    "Repérer les axes : <br>\n",
    "- l'axe des abscisses représente le temps t en secondes\n",
    "- l'axe des ordonnées représente la vitesse v en m/s <br>\n",
    "<br>**Remarque :**<br>\n",
    "Les librairies numpy et matplotlib on déjà été importées (entrée 1), inutile de refaire cette opération."
   ]
  },
  {
   "cell_type": "code",
   "execution_count": 7,
   "metadata": {
    "scrolled": true
   },
   "outputs": [
    {
     "ename": "SyntaxError",
     "evalue": "invalid syntax (<ipython-input-7-6e90ff1bd1a4>, line 1)",
     "output_type": "error",
     "traceback": [
      "\u001b[0;36m  File \u001b[0;32m\"<ipython-input-7-6e90ff1bd1a4>\"\u001b[0;36m, line \u001b[0;32m1\u001b[0m\n\u001b[0;31m    t =\u001b[0m\n\u001b[0m       ^\u001b[0m\n\u001b[0;31mSyntaxError\u001b[0m\u001b[0;31m:\u001b[0m invalid syntax\n"
     ]
    }
   ],
   "source": [
    "t ="
   ]
  },
  {
   "cell_type": "markdown",
   "metadata": {},
   "source": [
    "### EXERCICE N°2 : <br>\n",
    "**Compléter** le code de cellule ci-dessous pour tracer de la fonction x(t) = 2*t^2 pour t compris entre 0 et 2 secondes <br>\n",
    "Consulter la documentation numpy (fonctions mathématiques) pour la fonction carré <br>\n",
    "Repérer les axes : <br>\n",
    "- l'axe des abscisses représente le temps t en secondes\n",
    "- l'axe des ordonnées représente la position x en mètres <br>\n",
    "<br>**Remarque :**<br>\n",
    "Les librairies numpy et matplotlib on déjà été importées (entrée 1), inutile de refaire cette opération."
   ]
  },
  {
   "cell_type": "code",
   "execution_count": 5,
   "metadata": {
    "scrolled": false
   },
   "outputs": [
    {
     "ename": "SyntaxError",
     "evalue": "invalid syntax (<ipython-input-5-6e90ff1bd1a4>, line 1)",
     "output_type": "error",
     "traceback": [
      "\u001b[0;36m  File \u001b[0;32m\"<ipython-input-5-6e90ff1bd1a4>\"\u001b[0;36m, line \u001b[0;32m1\u001b[0m\n\u001b[0;31m    t =\u001b[0m\n\u001b[0m       ^\u001b[0m\n\u001b[0;31mSyntaxError\u001b[0m\u001b[0;31m:\u001b[0m invalid syntax\n"
     ]
    }
   ],
   "source": [
    "t ="
   ]
  }
 ],
 "metadata": {
  "kernelspec": {
   "display_name": "Python 3",
   "language": "python",
   "name": "python3"
  },
  "language_info": {
   "codemirror_mode": {
    "name": "ipython",
    "version": 3
   },
   "file_extension": ".py",
   "mimetype": "text/x-python",
   "name": "python",
   "nbconvert_exporter": "python",
   "pygments_lexer": "ipython3",
   "version": "3.7.0"
  }
 },
 "nbformat": 4,
 "nbformat_minor": 2
}
