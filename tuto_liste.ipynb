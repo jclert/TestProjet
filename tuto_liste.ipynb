{
 "cells": [
  {
   "cell_type": "markdown",
   "metadata": {},
   "source": [
    "<H1 style=\"text-align:center\";>COLLECTION D'OBJETS SOUS PYTHON : LES LISTES</H1>"
   ]
  },
  {
   "cell_type": "markdown",
   "metadata": {},
   "source": [
    "Sciences Numériques et Technologie <br>\n",
    "Tutoriel réaliser avec JUPITER NOTEBOOK  <br>\n",
    "Lycée Pierre Lagourgue Le Tampon <br>"
   ]
  },
  {
   "cell_type": "markdown",
   "metadata": {},
   "source": [
    "## Les tuples sont des tableaux dynamiques en lecture/écriture d'objets hétérogènes"
   ]
  },
  {
   "cell_type": "markdown",
   "metadata": {},
   "source": [
    "**Création d'une liste** <br>\n",
    "* Les crochets [ ] indiquent qu'il s'agit d'une liste\n",
    "* Les items sont séparés par \",\""
   ]
  },
  {
   "cell_type": "code",
   "execution_count": 44,
   "metadata": {
    "scrolled": true
   },
   "outputs": [
    {
     "name": "stdout",
     "output_type": "stream",
     "text": [
      "[3, 5, 8, 98, 0, 26, 52, 8]\n"
     ]
    }
   ],
   "source": [
    "L1 = [3, 5, 8, 98, 0, 26, 52, 8]\n",
    "print (L1)"
   ]
  },
  {
   "cell_type": "markdown",
   "metadata": {},
   "source": [
    "**Ajouter un item à la fin de la liste** <br>\n",
    "* On utilise pour cela la méthode .append( )"
   ]
  },
  {
   "cell_type": "code",
   "execution_count": 45,
   "metadata": {
    "scrolled": false
   },
   "outputs": [
    {
     "name": "stdout",
     "output_type": "stream",
     "text": [
      "[3, 5, 8, 98, 0, 26, 52, 8, 43]\n"
     ]
    }
   ],
   "source": [
    "L1.append(43)\n",
    "print(L1)"
   ]
  },
  {
   "cell_type": "code",
   "execution_count": 2,
   "metadata": {},
   "outputs": [],
   "source": [
    "# 0n remet la liste à sa valeur d'origine\n",
    "L1 = [3, 5, 8, 98, 0, 26, 52, 8]"
   ]
  },
  {
   "cell_type": "markdown",
   "metadata": {},
   "source": [
    "**Accès à un item d'une liste grace à l'index** <br>\n",
    "* Le premier item est à l'index 0\n",
    "* Le dernier item est à l'index len(t1)-1\n",
    "* L'index est à préciser entre crochets [index]\n",
    "* L'item d'index n-1 est le nième item de la liste"
   ]
  },
  {
   "cell_type": "code",
   "execution_count": 46,
   "metadata": {
    "scrolled": true
   },
   "outputs": [
    {
     "name": "stdout",
     "output_type": "stream",
     "text": [
      "98\n"
     ]
    }
   ],
   "source": [
    "print(L1[3])"
   ]
  },
  {
   "cell_type": "markdown",
   "metadata": {},
   "source": [
    "**Récupération d'une plage de liste** <br>\n",
    "* exemple 1 : récupération de l'item d'index 2 inclus à l'item d'index 5 (non inclus) soit les index 2, 3 et 4\n",
    "* exemple 2 : récupération des 4 premiers items, soit les index 0, 1, 2 et 3\n",
    "* exemple 3 : récupération des 3 derniers items, soit les index 4, 5 et 6\n",
    "* exemple 4 : récupération du dernier item de la liste, soit l'index 6"
   ]
  },
  {
   "cell_type": "code",
   "execution_count": 47,
   "metadata": {},
   "outputs": [
    {
     "name": "stdout",
     "output_type": "stream",
     "text": [
      "[8, 98, 0]\n"
     ]
    }
   ],
   "source": [
    "#exempe 1\n",
    "L11 = L1[2:5]\n",
    "print(L11)"
   ]
  },
  {
   "cell_type": "code",
   "execution_count": 48,
   "metadata": {
    "scrolled": false
   },
   "outputs": [
    {
     "name": "stdout",
     "output_type": "stream",
     "text": [
      "[3, 5, 8, 98]\n"
     ]
    }
   ],
   "source": [
    "#exempe 2\n",
    "L11 = L1[:4]\n",
    "print(L11)"
   ]
  },
  {
   "cell_type": "code",
   "execution_count": 49,
   "metadata": {
    "scrolled": false
   },
   "outputs": [
    {
     "name": "stdout",
     "output_type": "stream",
     "text": [
      "[52, 8, 43]\n"
     ]
    }
   ],
   "source": [
    "#exempe 3\n",
    "L11 = L1[-3:]\n",
    "print(L11)"
   ]
  },
  {
   "cell_type": "code",
   "execution_count": 50,
   "metadata": {
    "scrolled": false
   },
   "outputs": [
    {
     "name": "stdout",
     "output_type": "stream",
     "text": [
      "[43]\n"
     ]
    }
   ],
   "source": [
    "#exempe 4\n",
    "L11 = L1[-1:]\n",
    "print(L11)"
   ]
  },
  {
   "cell_type": "markdown",
   "metadata": {},
   "source": [
    "**Modifier la valeur d'un item avec son index** <br>"
   ]
  },
  {
   "cell_type": "code",
   "execution_count": 51,
   "metadata": {
    "scrolled": true
   },
   "outputs": [
    {
     "name": "stdout",
     "output_type": "stream",
     "text": [
      "[3, 5, 8, 98, 0, 26, 52, 8, 43]\n",
      "[3, 5, 8, 10, 0, 26, 52, 8, 43]\n"
     ]
    }
   ],
   "source": [
    "print(L1)\n",
    "L1[3] = 10\n",
    "print(L1)"
   ]
  },
  {
   "cell_type": "code",
   "execution_count": 3,
   "metadata": {},
   "outputs": [],
   "source": [
    "# 0n remet la liste à sa valeur d'origine\n",
    "L1 = [3, 5, 8, 98, 0, 26, 52, 8]"
   ]
  },
  {
   "cell_type": "markdown",
   "metadata": {},
   "source": [
    "**Supprimer un item d'une liste avec son index** <br>\n",
    "* utilisation de la fonction del"
   ]
  },
  {
   "cell_type": "code",
   "execution_count": 52,
   "metadata": {
    "scrolled": true
   },
   "outputs": [
    {
     "name": "stdout",
     "output_type": "stream",
     "text": [
      "[3, 5, 8, 10, 0, 26, 52, 8, 43]\n",
      "[3, 5, 8, 0, 26, 52, 8, 43]\n"
     ]
    }
   ],
   "source": [
    "print(L1)\n",
    "del L1[3]\n",
    "print(L1)"
   ]
  },
  {
   "cell_type": "code",
   "execution_count": 3,
   "metadata": {},
   "outputs": [],
   "source": [
    "# 0n remet la liste à sa valeur d'origine\n",
    "L1 = [3, 5, 8, 98, 0, 26, 52, 8]"
   ]
  },
  {
   "cell_type": "markdown",
   "metadata": {},
   "source": [
    "**Supprimer un item d'une liste avec sa valeur** <br>\n",
    "* Utilisation de la méthode remove( )\n",
    "* Cette méthode supprime le première élément de la liste correspondant à la valeur"
   ]
  },
  {
   "cell_type": "code",
   "execution_count": 53,
   "metadata": {
    "scrolled": false
   },
   "outputs": [
    {
     "name": "stdout",
     "output_type": "stream",
     "text": [
      "[3, 5, 8, 0, 26, 52, 8, 43]\n",
      "[3, 5, 0, 26, 52, 8, 43]\n"
     ]
    }
   ],
   "source": [
    "print(L1)\n",
    "L1.remove(8)\n",
    "print(L1)"
   ]
  },
  {
   "cell_type": "code",
   "execution_count": 5,
   "metadata": {},
   "outputs": [],
   "source": [
    "# 0n remet la liste à sa valeur d'origine\n",
    "L1 = [3, 5, 8, 98, 0, 26, 52, 8]"
   ]
  },
  {
   "cell_type": "markdown",
   "metadata": {},
   "source": [
    "**Inverser les items d'une liste** <br>\n",
    "* Utilisation de la méthode reverse( )"
   ]
  },
  {
   "cell_type": "code",
   "execution_count": 4,
   "metadata": {
    "scrolled": false
   },
   "outputs": [
    {
     "name": "stdout",
     "output_type": "stream",
     "text": [
      "[8, 52, 26, 0, 98, 8, 5, 3]\n"
     ]
    }
   ],
   "source": [
    "L1.reverse()\n",
    "print(L1)"
   ]
  },
  {
   "cell_type": "code",
   "execution_count": 6,
   "metadata": {},
   "outputs": [],
   "source": [
    "# 0n remet la liste à sa valeur d'origine\n",
    "L1 = [3, 5, 8, 98, 0, 26, 52, 8]"
   ]
  },
  {
   "cell_type": "markdown",
   "metadata": {},
   "source": [
    "**Taille d'une liste** <br>\n",
    "* On peut récupérer la taille d'une liste grace à la fonction intégrée len( )"
   ]
  },
  {
   "cell_type": "code",
   "execution_count": 8,
   "metadata": {
    "scrolled": false
   },
   "outputs": [
    {
     "name": "stdout",
     "output_type": "stream",
     "text": [
      "8\n"
     ]
    }
   ],
   "source": [
    "taille = len(L1)\n",
    "print(taille)"
   ]
  },
  {
   "cell_type": "markdown",
   "metadata": {},
   "source": [
    "**Nombre d'occurences d'une valeur d'item** <br>\n",
    "* Utilisation de la méthode count"
   ]
  },
  {
   "cell_type": "code",
   "execution_count": 10,
   "metadata": {
    "scrolled": true
   },
   "outputs": [
    {
     "name": "stdout",
     "output_type": "stream",
     "text": [
      "2\n"
     ]
    }
   ],
   "source": [
    "n = L1.count(8)\n",
    "print(n)"
   ]
  },
  {
   "cell_type": "markdown",
   "metadata": {},
   "source": [
    "Mettre à jour à partir d'ici d'après le site :\n",
    "http://apprendre-python.com/page-apprendre-listes-list-tableaux-tableaux-liste-array-python-cours-debutant"
   ]
  },
  {
   "cell_type": "markdown",
   "metadata": {},
   "source": [
    "**Taille d'un tuple appartenant à un tuple** <br>"
   ]
  },
  {
   "cell_type": "code",
   "execution_count": 57,
   "metadata": {
    "scrolled": true
   },
   "outputs": [
    {
     "name": "stdout",
     "output_type": "stream",
     "text": [
      "2\n"
     ]
    }
   ],
   "source": [
    "print(len(t6[1]))"
   ]
  },
  {
   "cell_type": "markdown",
   "metadata": {},
   "source": [
    "<H2 style=\"text-align:center\";>À VOUS DE JOUER</H2>"
   ]
  },
  {
   "cell_type": "markdown",
   "metadata": {},
   "source": [
    "Pour chaque exercice proposé, une fois que le code fonctionne correctement, faire un copier/coller dans SPYDER et sauvegarder votre fichier sous le nom suivant : **tuple_ex_1.py**"
   ]
  },
  {
   "cell_type": "markdown",
   "metadata": {},
   "source": [
    "### EXERCICE N°1 : <br>\n",
    "**Compléter** le code de la cellule ci-dessous pour ... <br>"
   ]
  },
  {
   "cell_type": "code",
   "execution_count": null,
   "metadata": {
    "scrolled": true
   },
   "outputs": [],
   "source": []
  },
  {
   "cell_type": "markdown",
   "metadata": {},
   "source": [
    "### EXERCICE N°2 : <br>\n",
    "**Compléter** le code de la cellule ci-dessous pour ..."
   ]
  },
  {
   "cell_type": "code",
   "execution_count": null,
   "metadata": {
    "scrolled": false
   },
   "outputs": [],
   "source": []
  }
 ],
 "metadata": {
  "kernelspec": {
   "display_name": "Python 3",
   "language": "python",
   "name": "python3"
  },
  "language_info": {
   "codemirror_mode": {
    "name": "ipython",
    "version": 3
   },
   "file_extension": ".py",
   "mimetype": "text/x-python",
   "name": "python",
   "nbconvert_exporter": "python",
   "pygments_lexer": "ipython3",
   "version": "3.7.0"
  }
 },
 "nbformat": 4,
 "nbformat_minor": 2
}
